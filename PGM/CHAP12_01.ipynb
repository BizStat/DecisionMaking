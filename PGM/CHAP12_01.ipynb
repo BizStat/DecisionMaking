{
  "nbformat": 4,
  "nbformat_minor": 0,
  "metadata": {
    "colab": {
      "provenance": [],
      "authorship_tag": "ABX9TyPiD74nzuHm9Mumiicml5bY",
      "include_colab_link": true
    },
    "kernelspec": {
      "name": "python3",
      "display_name": "Python 3"
    },
    "language_info": {
      "name": "python"
    }
  },
  "cells": [
    {
      "cell_type": "markdown",
      "metadata": {
        "id": "view-in-github",
        "colab_type": "text"
      },
      "source": [
        "<a href=\"https://colab.research.google.com/github/BizStat/DecisionMaking/blob/main/CHAP12_01.ipynb\" target=\"_parent\"><img src=\"https://colab.research.google.com/assets/colab-badge.svg\" alt=\"Open In Colab\"/></a>"
      ]
    },
    {
      "cell_type": "markdown",
      "source": [
        "## 네트워크 모형"
      ],
      "metadata": {
        "id": "7NviAwX7I8cb"
      }
    },
    {
      "cell_type": "markdown",
      "source": [
        "### 네트워크 생성"
      ],
      "metadata": {
        "id": "gIRIU5vperT1"
      }
    },
    {
      "cell_type": "code",
      "source": [
        "import networkx as nx\n",
        "import matplotlib.pyplot as plt"
      ],
      "metadata": {
        "id": "DO-Tlgl-etuY"
      },
      "execution_count": null,
      "outputs": []
    },
    {
      "cell_type": "code",
      "source": [
        "net1 = nx.Graph()\n",
        "net1.add_nodes_from([1,2,3,4])\n",
        "net1.add_edges_from([(1,2),(1,4),(2,4)])"
      ],
      "metadata": {
        "id": "nx8LPPORvmvg"
      },
      "execution_count": null,
      "outputs": []
    },
    {
      "cell_type": "code",
      "source": [
        "nx.draw_networkx(net1)"
      ],
      "metadata": {
        "id": "KSNd_ZQhtHo8"
      },
      "execution_count": null,
      "outputs": []
    },
    {
      "cell_type": "code",
      "source": [
        "print('Nodes :', net1.nodes)\n",
        "print('Edges :', net1.edges)\n",
        "for u, v, data in net1.edges(data=True):\n",
        "    print(f\"Weight of edge ({u}, {v}): {data.get('weight', 1)}\")"
      ],
      "metadata": {
        "id": "qHYHL4bgZZSZ"
      },
      "execution_count": null,
      "outputs": []
    },
    {
      "cell_type": "code",
      "source": [
        "pos = {1: (0,0.6), 2: (0,0.4), 3: (1,0.4), 4: (1,0.6)}\n",
        "options = {\n",
        "    \"font_size\": 20,\n",
        "    \"node_size\": 2000,\n",
        "    \"node_color\": \"#cccccc\",\n",
        "    \"edgecolors\": \"black\",\n",
        "    \"linewidths\": 3,\n",
        "    \"width\": 3,\n",
        "}\n",
        "nx.draw_networkx(net1,pos=pos, **options)"
      ],
      "metadata": {
        "id": "0gNadrK-8IcJ"
      },
      "execution_count": null,
      "outputs": []
    },
    {
      "cell_type": "code",
      "source": [
        "net1.add_weighted_edges_from([(1,2,10),(1,4,15),(2,4,5)])"
      ],
      "metadata": {
        "id": "CjRiSCdZeWcZ"
      },
      "execution_count": null,
      "outputs": []
    },
    {
      "cell_type": "code",
      "source": [
        "print('Nodes :', net1.nodes)\n",
        "print('Edges :', net1.edges)\n",
        "for u, v, data in net1.edges(data=True):\n",
        "    print(f\"Weight of edge ({u}, {v}): {data.get('weight', 1)}\")"
      ],
      "metadata": {
        "id": "JY7Nahq1aIUj"
      },
      "execution_count": null,
      "outputs": []
    },
    {
      "cell_type": "code",
      "source": [
        "nx.draw_networkx(net1,pos=pos, **options)\n",
        "nx.draw_networkx_edge_labels(net1,pos=pos,edge_labels={(1,2):10,(1,4):15,(2,4):5})"
      ],
      "metadata": {
        "id": "X7a1jsJefkDF"
      },
      "execution_count": null,
      "outputs": []
    },
    {
      "cell_type": "markdown",
      "source": [
        "### MST(최소걸침나무) 구현"
      ],
      "metadata": {
        "id": "GHXdWsC4LCaw"
      }
    },
    {
      "cell_type": "code",
      "source": [
        "N1 = nx.Graph()\n",
        "N1.add_weighted_edges_from([(1,2,30),(1,3,20),(1,4,50),(2,3,30),(2,5,30),(3,4,20),(3,5,50),(3,6,30),(3,7,70),(4,6,60),(5,7,40),(6,8,10),(7,8,20)])"
      ],
      "metadata": {
        "id": "f48Jt3q5q1JB"
      },
      "execution_count": null,
      "outputs": []
    },
    {
      "cell_type": "code",
      "source": [
        "print('Nodes :', N1.nodes)\n",
        "print('Edges :', N1.edges)\n",
        "for u, v, data in N1.edges(data=True):\n",
        "    print(f\"Weight of edge ({u}, {v}): {data.get('weight', 1)}\")"
      ],
      "metadata": {
        "id": "aA2TdfJkuPpk"
      },
      "execution_count": null,
      "outputs": []
    },
    {
      "cell_type": "code",
      "source": [
        "pos = {1: (0,0.5), 2: (1,0.7), 3: (1,0.5), 4: (1,0.3), 5: (2,0.7), 6: (2,0.3), 7: (3,0.5), 8: (3,0.3)}\n",
        "options = {\n",
        "    \"font_size\": 20,\n",
        "    \"node_size\": 2000,\n",
        "    \"node_color\": \"white\",\n",
        "    \"edgecolors\": \"black\",\n",
        "    \"linewidths\": 3,\n",
        "    \"width\": 3,\n",
        "}\n",
        "nx.draw_networkx(N1, pos=pos, **options)\n",
        "#nx.draw(N1, with_labels=True)\n",
        "plt.gca().margins(0.2)\n",
        "plt.axis(\"off\")\n",
        "plt.show()"
      ],
      "metadata": {
        "id": "imzWMFWbsiFm"
      },
      "execution_count": null,
      "outputs": []
    },
    {
      "cell_type": "code",
      "source": [
        "N1_MST = nx.minimum_spanning_tree(N1)\n",
        "nx.draw_networkx(N1_MST, pos=pos, **options)\n",
        "#nx.draw(N1, with_labels=True)\n",
        "plt.gca().margins(0.2)\n",
        "plt.axis(\"off\")\n",
        "plt.show()"
      ],
      "metadata": {
        "id": "E5gZ9Gkyu-Yr"
      },
      "execution_count": null,
      "outputs": []
    },
    {
      "cell_type": "code",
      "source": [
        "print('Nodes :', N1_MST.nodes)\n",
        "print('Edges :', N1_MST.edges)\n",
        "for u, v, data in N1_MST.edges(data=True):\n",
        "    print(f\"Weight of edge ({u}, {v}): {data.get('weight', 1)}\")"
      ],
      "metadata": {
        "id": "SOUWTRt6xhYy"
      },
      "execution_count": null,
      "outputs": []
    },
    {
      "cell_type": "markdown",
      "source": [
        "### 최단경로 탐색"
      ],
      "metadata": {
        "id": "vpFSugYw_tOC"
      }
    },
    {
      "cell_type": "code",
      "execution_count": null,
      "metadata": {
        "id": "bfSfpzjlI3kA"
      },
      "outputs": [],
      "source": [
        "print(nx.shortest_path(N1, source=1, target=7))"
      ]
    },
    {
      "cell_type": "code",
      "source": [
        "print(nx.shortest_path(N1))"
      ],
      "metadata": {
        "id": "IE3tMig3XbVV"
      },
      "execution_count": null,
      "outputs": []
    },
    {
      "cell_type": "code",
      "source": [
        "nx.shortest_path(N1, source=1, target=7)"
      ],
      "metadata": {
        "id": "YcJLq4KjfB7j"
      },
      "execution_count": null,
      "outputs": []
    },
    {
      "cell_type": "code",
      "source": [
        "N1.subgraph(nx.shortest_path(N1, source=1, target=7))"
      ],
      "metadata": {
        "id": "hLMjUYucfI2T"
      },
      "execution_count": null,
      "outputs": []
    },
    {
      "cell_type": "code",
      "source": [
        "tmp = nx.shortest_path(N1, source=1, target=7)\n",
        "tmp_01 = N1.subgraph(tmp)\n",
        "nx.draw(tmp_01, pos=pos, **options, with_labels=True)\n",
        "#nx.draw(tmp_01, pos=pos, **options)\n",
        "plt.gca().margins(0.2)\n",
        "plt.axis(\"off\")\n",
        "plt.show()"
      ],
      "metadata": {
        "id": "z-LuLFt7Xl82"
      },
      "execution_count": null,
      "outputs": []
    },
    {
      "cell_type": "code",
      "source": [
        "nx.shortest_path(N1, source=1, target=7, weight='weight')"
      ],
      "metadata": {
        "id": "JYwMWNdZi1ae"
      },
      "execution_count": null,
      "outputs": []
    },
    {
      "cell_type": "code",
      "source": [
        "tmp = nx.shortest_path(N1, source=1, target=7, weight='weight')\n",
        "tmp_01 = N1.subgraph(tmp)\n",
        "nx.draw(tmp_01, pos=pos, **options, with_labels=True)\n",
        "#nx.draw(tmp_01, pos=pos, **options)\n",
        "plt.show()"
      ],
      "metadata": {
        "id": "j1hb4MB8YeUj"
      },
      "execution_count": null,
      "outputs": []
    },
    {
      "cell_type": "code",
      "source": [
        "tmp_01.edges(data=True)"
      ],
      "metadata": {
        "id": "mldAdIJpk76a"
      },
      "execution_count": null,
      "outputs": []
    },
    {
      "cell_type": "code",
      "source": [
        "tmp_01 = tmp_01.copy()\n",
        "tmp_01.remove_edge(3,7)\n",
        "tmp_01.edges(data=True)"
      ],
      "metadata": {
        "id": "wFF_vZMTp3Ng"
      },
      "execution_count": null,
      "outputs": []
    },
    {
      "cell_type": "code",
      "source": [
        "nx.draw(tmp_01, pos=pos, **options, with_labels=True)\n",
        "#nx.draw(tmp_01, pos=pos, **options)\n",
        "plt.show()"
      ],
      "metadata": {
        "id": "-g_wGR0ayKOu"
      },
      "execution_count": null,
      "outputs": []
    },
    {
      "cell_type": "markdown",
      "source": [
        "### 6장 강의노트 12쪽 최단경로 탐색 사례"
      ],
      "metadata": {
        "id": "e9X4EgBxky6A"
      }
    },
    {
      "cell_type": "code",
      "source": [
        "# 네트워크 객체 생성\n",
        "N3 = nx.DiGraph()\n",
        "\n",
        "# 정점(node) 추가\n",
        "N3.add_nodes_from(list(range(1,6)))\n",
        "\n",
        "# 연결선(edge) 추가\n",
        "N3.add_weighted_edges_from([(1,2,100),(1,3,200),(2,3,50),(2,4,200),(2,5,100),(3,5,40),(4,5,150),(4,6,100),(5,6,100)])\n",
        "\n",
        "# 네트워크 그리기\n",
        "pos = {1: (0,0.5), 2: (1,0.7), 3: (1,0.3), 4: (2,0.7), 5: (2,0.3), 6: (3,0.5)}\n",
        "options = {\n",
        "    \"font_size\": 20,\n",
        "    \"node_size\": 2000,\n",
        "    \"node_color\": \"white\",\n",
        "    \"edgecolors\": \"black\",\n",
        "    \"linewidths\": 3,\n",
        "    \"width\": 3,\n",
        "}\n",
        "nx.draw_networkx(N3, pos=pos, **options)\n",
        "#nx.draw(N1, with_labels=True)\n",
        "plt.gca().margins(0.2)\n",
        "plt.axis(\"off\")\n",
        "plt.show()"
      ],
      "metadata": {
        "id": "Z6bbb4eWLGK-"
      },
      "execution_count": null,
      "outputs": []
    },
    {
      "cell_type": "code",
      "source": [
        "tmp = nx.shortest_path(N3, source=1, target=6, weight='weight')\n",
        "tmp_01 = N3.subgraph(tmp)"
      ],
      "metadata": {
        "id": "LIq2mBNvpHXt"
      },
      "execution_count": null,
      "outputs": []
    },
    {
      "cell_type": "code",
      "source": [
        "tmp"
      ],
      "metadata": {
        "id": "y0_TKscIzqgZ"
      },
      "execution_count": null,
      "outputs": []
    },
    {
      "cell_type": "code",
      "source": [],
      "metadata": {
        "id": "gx8auS1sztQp"
      },
      "execution_count": null,
      "outputs": []
    },
    {
      "cell_type": "code",
      "source": [
        "tmp_01 = tmp_01.copy()\n",
        "tmp_01.remove_edge(1,3)\n",
        "tmp_01.remove_edge(2,5)\n",
        "tmp_01.edges(data=True)"
      ],
      "metadata": {
        "id": "8aOG45ZmzXQS"
      },
      "execution_count": null,
      "outputs": []
    },
    {
      "cell_type": "code",
      "source": [
        "nx.draw(tmp_01, pos=pos, **options, with_labels=True)\n",
        "plt.gca().margins(0.2)\n",
        "plt.axis(\"off\")\n",
        "plt.show()"
      ],
      "metadata": {
        "id": "SH0oMLwrpkzl"
      },
      "execution_count": null,
      "outputs": []
    }
  ]
}