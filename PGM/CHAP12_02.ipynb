{
  "nbformat": 4,
  "nbformat_minor": 0,
  "metadata": {
    "colab": {
      "provenance": [],
      "authorship_tag": "ABX9TyMqwHZxoAhluHtVKWL2t7h9",
      "include_colab_link": true
    },
    "kernelspec": {
      "name": "python3",
      "display_name": "Python 3"
    },
    "language_info": {
      "name": "python"
    }
  },
  "cells": [
    {
      "cell_type": "markdown",
      "metadata": {
        "id": "view-in-github",
        "colab_type": "text"
      },
      "source": [
        "<a href=\"https://colab.research.google.com/github/BizStat/DecisionMaking/blob/main/CHAP12_02.ipynb\" target=\"_parent\"><img src=\"https://colab.research.google.com/assets/colab-badge.svg\" alt=\"Open In Colab\"/></a>"
      ]
    },
    {
      "cell_type": "markdown",
      "source": [
        "## 시뮬레이션 모형"
      ],
      "metadata": {
        "id": "OuvRyFlhoQYE"
      }
    },
    {
      "cell_type": "markdown",
      "source": [
        "### NumPy 라이브러리 기초"
      ],
      "metadata": {
        "id": "51vOujKOpMUC"
      }
    },
    {
      "cell_type": "code",
      "source": [
        "import numpy as np\n",
        "import matplotlib.pyplot as plt"
      ],
      "metadata": {
        "id": "b2QmA-1fzYhv"
      },
      "execution_count": null,
      "outputs": []
    },
    {
      "cell_type": "markdown",
      "source": [
        "### 연립방정식의 해 구하기"
      ],
      "metadata": {
        "id": "pNjkv0BbduOw"
      }
    },
    {
      "cell_type": "code",
      "source": [
        "b = np.array([2,3,1])\n",
        "A = np.array([[1,1,1],[2,-1,-3],[-1,2,2]])"
      ],
      "metadata": {
        "id": "qRwc44NHdjjc"
      },
      "execution_count": null,
      "outputs": []
    },
    {
      "cell_type": "code",
      "source": [
        "A"
      ],
      "metadata": {
        "id": "Ns28Q3OMgBX-"
      },
      "execution_count": null,
      "outputs": []
    },
    {
      "cell_type": "code",
      "source": [
        "A[0,0]"
      ],
      "metadata": {
        "id": "AhWX-p3afyBv"
      },
      "execution_count": null,
      "outputs": []
    },
    {
      "cell_type": "code",
      "source": [
        "Ainv = np.linalg.inv(A)"
      ],
      "metadata": {
        "id": "olOG1DbjdyG5"
      },
      "execution_count": null,
      "outputs": []
    },
    {
      "cell_type": "code",
      "source": [
        "x = np.dot(Ainv,b)"
      ],
      "metadata": {
        "id": "d5znCnqOe5O2"
      },
      "execution_count": null,
      "outputs": []
    },
    {
      "cell_type": "code",
      "source": [
        "print(x)"
      ],
      "metadata": {
        "id": "i07ekmCwfGlR"
      },
      "execution_count": null,
      "outputs": []
    },
    {
      "cell_type": "code",
      "source": [
        "Ainv @ b"
      ],
      "metadata": {
        "id": "A-4qTnLHgPg6"
      },
      "execution_count": null,
      "outputs": []
    },
    {
      "cell_type": "markdown",
      "source": [
        "### 확률분포를 따르는 난수 생성"
      ],
      "metadata": {
        "id": "PjQRtt_-pWpZ"
      }
    },
    {
      "cell_type": "code",
      "source": [
        "np.random.seed(1)"
      ],
      "metadata": {
        "id": "sxfRFfuahqHP"
      },
      "execution_count": null,
      "outputs": []
    },
    {
      "cell_type": "code",
      "source": [
        "np.random.uniform(low=0,high=1,size=10)"
      ],
      "metadata": {
        "id": "KcHI7LqLh1E2"
      },
      "execution_count": null,
      "outputs": []
    },
    {
      "cell_type": "code",
      "source": [
        "np.random.seed(1)"
      ],
      "metadata": {
        "id": "B5F6LmGoVslt"
      },
      "execution_count": null,
      "outputs": []
    },
    {
      "cell_type": "code",
      "source": [
        "np.random.uniform(low=0,high=1,size=10)"
      ],
      "metadata": {
        "id": "k6UGhjuwVHBG"
      },
      "execution_count": null,
      "outputs": []
    },
    {
      "cell_type": "code",
      "source": [
        "x = np.random.uniform(low=0,high=1,size=1000)"
      ],
      "metadata": {
        "id": "3bgYpsUKvumZ"
      },
      "execution_count": null,
      "outputs": []
    },
    {
      "cell_type": "code",
      "source": [
        "plt.hist(x, bins=20, rwidth=0.8)\n",
        "#plt.title('Uniform Random Number')\n",
        "plt.xlabel('Value')\n",
        "plt.ylabel('Frequency')\n",
        "plt.show()"
      ],
      "metadata": {
        "id": "7hWErBKWiEU-"
      },
      "execution_count": null,
      "outputs": []
    },
    {
      "cell_type": "code",
      "source": [
        "np.random.seed(1)\n",
        "x = np.random.normal(loc=20, scale=10, size=1000)"
      ],
      "metadata": {
        "id": "D3dBnQ9rk3OR"
      },
      "execution_count": null,
      "outputs": []
    },
    {
      "cell_type": "code",
      "source": [
        "plt.hist(x, bins=20, rwidth=0.8)\n",
        "plt.title('Normal Random Number')\n",
        "plt.xlabel('Value')\n",
        "plt.ylabel('Frequency')\n",
        "plt.show()"
      ],
      "metadata": {
        "id": "EEDtN_txmOMR"
      },
      "execution_count": null,
      "outputs": []
    },
    {
      "cell_type": "code",
      "source": [
        "np.random.seed(1)\n",
        "x = np.random.exponential(scale=2, size=1000)"
      ],
      "metadata": {
        "id": "SKII0xTnn-te"
      },
      "execution_count": null,
      "outputs": []
    },
    {
      "cell_type": "code",
      "source": [
        "np.mean(x)"
      ],
      "metadata": {
        "id": "tyaReqqLrXfV"
      },
      "execution_count": null,
      "outputs": []
    },
    {
      "cell_type": "code",
      "source": [
        "np.std(x)"
      ],
      "metadata": {
        "id": "vcYHHlXlsBcH"
      },
      "execution_count": null,
      "outputs": []
    },
    {
      "cell_type": "code",
      "source": [
        "plt.hist(x, bins=20, rwidth=0.8)\n",
        "plt.title('Exponential Random Number')\n",
        "plt.xlabel('Value')\n",
        "plt.ylabel('Frequency')\n",
        "plt.show()"
      ],
      "metadata": {
        "id": "orG8EdKWrOBO"
      },
      "execution_count": null,
      "outputs": []
    },
    {
      "cell_type": "code",
      "source": [
        "np.random.seed(1)\n",
        "x = np.random.poisson(lam=0.5, size=1000)"
      ],
      "metadata": {
        "id": "Rinxh_X8tQoN"
      },
      "execution_count": null,
      "outputs": []
    },
    {
      "cell_type": "code",
      "source": [
        "np.var(x)"
      ],
      "metadata": {
        "id": "J-SI3oQdt-cD"
      },
      "execution_count": null,
      "outputs": []
    },
    {
      "cell_type": "code",
      "source": [
        "x1, y1 = np.unique(x, return_counts=True)\n",
        "plt.bar(x1, y1, width=0.8)\n",
        "plt.title('Poisson Random Number')\n",
        "plt.xlabel('Value')\n",
        "plt.ylabel('Frequency')\n",
        "plt.show()"
      ],
      "metadata": {
        "id": "W1m07YK2uq_b"
      },
      "execution_count": null,
      "outputs": []
    },
    {
      "cell_type": "markdown",
      "source": [
        "### 대수의 법칙"
      ],
      "metadata": {
        "id": "HNF0qGYfoUo6"
      }
    },
    {
      "cell_type": "code",
      "execution_count": null,
      "metadata": {
        "id": "kEPbs6mhoKkN"
      },
      "outputs": [],
      "source": [
        "x = np.random.randint(low=1, high=7, size=1000)"
      ]
    },
    {
      "cell_type": "code",
      "source": [
        "val = np.zeros(6)\n",
        "for i in range(6):\n",
        "  val[i] = np.sum(x==i+1)"
      ],
      "metadata": {
        "id": "zGHKJXme0LSt"
      },
      "execution_count": null,
      "outputs": []
    },
    {
      "cell_type": "code",
      "source": [
        "for i in range(6):\n",
        "  print(f'P({i+1}) = {val[i]/1000}')"
      ],
      "metadata": {
        "id": "-5e1XITo1E4I"
      },
      "execution_count": null,
      "outputs": []
    },
    {
      "cell_type": "code",
      "source": [
        "sum6 = 0\n",
        "pr6 = []\n",
        "for i in range(len(x)):\n",
        "  if x[i] == 6:\n",
        "    sum6 += 1\n",
        "  pr6.append(sum6/(i+1))\n",
        "#  print(f'N = {i+1}, P(6) = {pr6[i]}')"
      ],
      "metadata": {
        "id": "vz8fis6806Tn"
      },
      "execution_count": null,
      "outputs": []
    },
    {
      "cell_type": "code",
      "source": [
        "n_values = range(1, len(x) + 1)\n",
        "plt.plot(n_values, pr6)  # Corrected to plot pr6 directly\n",
        "plt.title('Probability of rolling a 6')\n",
        "plt.xlabel('Number of trials')\n",
        "plt.ylabel('Probability')\n",
        "plt.show()"
      ],
      "metadata": {
        "id": "Ap0WsoD72m2I"
      },
      "execution_count": null,
      "outputs": []
    },
    {
      "cell_type": "markdown",
      "source": [
        "### 원주율 구하기"
      ],
      "metadata": {
        "id": "ZPZ3JzCHoXJc"
      }
    },
    {
      "cell_type": "code",
      "source": [],
      "metadata": {
        "id": "ibqQqpWC4-oE"
      },
      "execution_count": null,
      "outputs": []
    },
    {
      "cell_type": "markdown",
      "source": [
        "### 시뮬레이션을 이용한 대기행렬모형"
      ],
      "metadata": {
        "id": "ZH8X2y014_Cm"
      }
    },
    {
      "cell_type": "code",
      "source": [
        "# prompt: 도착시간과 서비스시간이 있는 창구 n개인 대기행렬분석을 위한 시뮬레이션 코드\n",
        "\n",
        "import numpy as np\n",
        "import random\n",
        "\n",
        "class Queue:\n",
        "    def __init__(self):\n",
        "        self.items = []\n",
        "\n",
        "    def is_empty(self):\n",
        "        return len(self.items) == 0\n",
        "\n",
        "    def enqueue(self, item):\n",
        "        self.items.append(item)\n",
        "\n",
        "    def dequeue(self):\n",
        "        if not self.is_empty():\n",
        "            return self.items.pop(0)\n",
        "        else:\n",
        "            return None\n",
        "\n",
        "    def size(self):\n",
        "        return len(self.items)\n",
        "\n",
        "def simulate_queue(num_counters, arrival_rate, service_rate, simulation_time):\n",
        "    # Initialize counters with arrival and service times\n",
        "    counters = []\n",
        "    for _ in range(num_counters):\n",
        "      counters.append({'arrival_time': 0, 'service_time': 0})\n",
        "\n",
        "    # Initialize the queue\n",
        "    queue = Queue()\n",
        "\n",
        "    # Initialize simulation parameters\n",
        "    current_time = 0\n",
        "    customers_served = 0\n",
        "    total_waiting_time = 0\n",
        "\n",
        "    # Generate arrival times\n",
        "    arrival_times = []\n",
        "    while current_time <= simulation_time:\n",
        "      interarrival_time = np.random.exponential(1.0/arrival_rate)\n",
        "      current_time += interarrival_time\n",
        "      arrival_times.append(current_time)\n",
        "\n",
        "    customer_index = 0\n",
        "\n",
        "    # Run the simulation\n",
        "    while customer_index < len(arrival_times) or not queue.is_empty():\n",
        "        # Check for new arrivals\n",
        "        while customer_index < len(arrival_times) and arrival_times[customer_index] <= current_time :\n",
        "            queue.enqueue((arrival_times[customer_index], np.random.exponential(1.0/service_rate)))\n",
        "            customer_index += 1\n",
        "\n",
        "        # Check for available counters\n",
        "        available_counters = []\n",
        "        for i in range(num_counters):\n",
        "          if counters[i]['arrival_time'] <= current_time:\n",
        "            available_counters.append(i)\n",
        "\n",
        "        # Serve customers from the queue\n",
        "        for counter_index in available_counters:\n",
        "          if not queue.is_empty():\n",
        "            arrival, service = queue.dequeue()\n",
        "            waiting_time = max(0, current_time - arrival)\n",
        "            total_waiting_time += waiting_time\n",
        "            customers_served += 1\n",
        "            counters[counter_index]['arrival_time'] = current_time + service\n",
        "            counters[counter_index]['service_time'] = service\n",
        "            current_time = min(current_time + service, min(counters, key=lambda x: x['arrival_time'])['arrival_time'])\n",
        "          else:\n",
        "            counters[counter_index]['arrival_time'] = simulation_time + 1\n",
        "\n",
        "        # Increment simulation time\n",
        "        # current_time += 1\n",
        "\n",
        "        current_time = min(simulation_time + 1, min(counters, key=lambda x: x['arrival_time'])['arrival_time'])\n",
        "\n",
        "    # Calculate average waiting time\n",
        "    if customers_served > 0:\n",
        "        avg_waiting_time = total_waiting_time / customers_served\n",
        "    else:\n",
        "        avg_waiting_time = 0\n",
        "\n",
        "    return avg_waiting_time\n",
        "\n",
        "# Example usage\n",
        "num_counters = 3\n",
        "arrival_rate = 5  # Customers per time unit\n",
        "service_rate = 6 # Customers per time unit\n",
        "simulation_time = 100  # Time units\n",
        "\n",
        "avg_wait = simulate_queue(num_counters, arrival_rate, service_rate, simulation_time)\n",
        "print(f\"Average waiting time: {avg_wait}\")"
      ],
      "metadata": {
        "id": "zp8g4ePSFz7D"
      },
      "execution_count": null,
      "outputs": []
    },
    {
      "cell_type": "markdown",
      "source": [
        "### 대기행렬모형"
      ],
      "metadata": {
        "id": "yH8RfdFcCalH"
      }
    },
    {
      "cell_type": "code",
      "source": [
        "import numpy as np\n",
        "\n",
        "def simulate_queue(simulation_time, arrival_rate, service_rate):\n",
        "    \"\"\"\n",
        "    M/M/1 대기열 시뮬레이션\n",
        "    - simulation_time: 총 시뮬레이션 시간 (분)\n",
        "    - arrival_rate: 도착률 (분당 차량 수)\n",
        "    - service_rate: 서비스율 (분당 차량 수)\n",
        "    \"\"\"\n",
        "    # 랜덤 시드 설정 (재현 가능성을 위해)\n",
        "    np.random.seed(42)\n",
        "\n",
        "    # 차량 도착 시간 및 서비스 시간 생성\n",
        "    arrival_times = np.cumsum(np.random.exponential(1 / arrival_rate, size=10000))\n",
        "    service_times = np.random.exponential(1 / service_rate, size=10000)\n",
        "\n",
        "    # 시뮬레이션 초기화\n",
        "    current_time = 0\n",
        "    queue = []  # 대기열\n",
        "    departures = []  # 출발 시간 기록\n",
        "    waiting_times = []  # 대기 시간 기록\n",
        "\n",
        "    for i in range(len(arrival_times)):\n",
        "        if arrival_times[i] > simulation_time:  # 시뮬레이션 시간 초과 시 종료\n",
        "            break\n",
        "\n",
        "        arrival_time = arrival_times[i]\n",
        "        service_time = service_times[i]\n",
        "\n",
        "        # 현재 시간 업데이트\n",
        "        if queue:\n",
        "            current_time = max(current_time, arrival_time)\n",
        "        else:\n",
        "            current_time = arrival_time\n",
        "\n",
        "        # 대기 및 서비스 처리\n",
        "        if current_time > arrival_time:\n",
        "            waiting_time = current_time - arrival_time\n",
        "            waiting_times.append(waiting_time)\n",
        "            current_time += service_time\n",
        "        else:\n",
        "            waiting_times.append(0)  # 대기 없음\n",
        "            current_time = arrival_time + service_time\n",
        "\n",
        "        # 출발 시간 기록\n",
        "        departures.append(current_time)\n",
        "        queue.append(arrival_time)\n",
        "\n",
        "    # 평균 대기 시간 및 평균 대기열 길이 계산\n",
        "    average_waiting_time = np.mean(waiting_times)\n",
        "    average_queue_length = np.mean([len([t for t in queue if t <= time]) for time in departures])\n",
        "\n",
        "    return average_waiting_time, average_queue_length\n",
        "\n",
        "\n",
        "# 파라미터 설정\n",
        "simulation_time = 10000  # 시뮬레이션 시간 (분)\n",
        "arrival_rate = 15 / 60   # 한 시간에 15대 -> 분당 0.25대\n",
        "service_rate = 1 / 4     # 한 대당 서비스 시간 4분 -> 분당 0.25대\n",
        "\n",
        "# 시뮬레이션 실행\n",
        "average_waiting_time, average_queue_length = simulate_queue(simulation_time, arrival_rate, service_rate)\n",
        "\n",
        "# 결과 출력\n",
        "print(f\"평균 대기시간: {average_waiting_time:.2f}분\")\n",
        "print(f\"평균 대기열 길이: {average_queue_length:.2f}대\")\n"
      ],
      "metadata": {
        "id": "YOfUTcPKCc8U"
      },
      "execution_count": null,
      "outputs": []
    }
  ]
}