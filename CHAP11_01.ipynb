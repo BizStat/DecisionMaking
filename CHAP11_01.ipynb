{
  "nbformat": 4,
  "nbformat_minor": 0,
  "metadata": {
    "colab": {
      "provenance": [],
      "authorship_tag": "ABX9TyNRWs2F54pCFA9cddzXKIFp",
      "include_colab_link": true
    },
    "kernelspec": {
      "name": "python3",
      "display_name": "Python 3"
    },
    "language_info": {
      "name": "python"
    }
  },
  "cells": [
    {
      "cell_type": "markdown",
      "metadata": {
        "id": "view-in-github",
        "colab_type": "text"
      },
      "source": [
        "<a href=\"https://colab.research.google.com/github/BizStat/DecisionMaking/blob/main/CHAP11_01.ipynb\" target=\"_parent\"><img src=\"https://colab.research.google.com/assets/colab-badge.svg\" alt=\"Open In Colab\"/></a>"
      ]
    },
    {
      "cell_type": "markdown",
      "source": [
        "## 선형계획법 문제 해결을 위한 프로그램 작성"
      ],
      "metadata": {
        "id": "HWmFNLOj6Bqq"
      }
    },
    {
      "cell_type": "markdown",
      "source": [
        "___\n",
        "(1) 의사결정 변수\n",
        "- $X_1$ : 은종의 생산량\n",
        "- $X_2$ : 은사슴의 생산량\n",
        "___\n",
        "(2) 목적함수\n",
        "- $Z=10X_1+6X_2$의 최대화\n",
        "___\n",
        "(3) 제약조건\n",
        "- 은 재료 : $5X_1 + 2X_2 \\le 20$\n",
        "- 노동력 : $4X_1+4X_2 \\le 24$\n",
        "- 비음조건 : $X_1 \\ge 0$, $X_2 \\ge 0$\n"
      ],
      "metadata": {
        "id": "zw0RvFHZ-B-O"
      }
    },
    {
      "cell_type": "code",
      "source": [
        "from scipy.optimize import linprog\n",
        "\n",
        "# Coefficients of the objective function (maximize profit: 10x1 + 6x2)\n",
        "c = [-10, -6]  # Negated because linprog minimizes by default\n",
        "\n",
        "# Coefficients of the inequality constraints\n",
        "A = [\n",
        "    [5, 2],  # Silver constraint: 5x1 + 2x2 <= 20\n",
        "    [4, 4]   # Labor constraint: 4x1 + 4x2 <= 24\n",
        "]\n",
        "\n",
        "# Right-hand side of the inequality constraints\n",
        "b = [20, 24]\n",
        "\n",
        "# Bounds for the decision variables (x1 >= 0, x2 >= 0)\n",
        "x_bounds = (0, None)\n",
        "\n",
        "# Solve the linear programming problem\n",
        "result = linprog(c, A_ub=A, b_ub=b, bounds=[x_bounds, x_bounds], method='highs')\n",
        "\n",
        "# Extract the results\n",
        "optimal_production = result.x\n",
        "maximum_profit = -result.fun  # Negate because we minimized\n",
        "\n",
        "optimal_production, maximum_profit"
      ],
      "metadata": {
        "id": "NvoXXde46HOs"
      },
      "execution_count": null,
      "outputs": []
    },
    {
      "cell_type": "code",
      "source": [
        "from scipy.optimize import linprog\n",
        "c = [-10, -6]  # Negated because linprog minimizes by default\n",
        "A = [[5, 2],[4, 4]]\n",
        "b = [20, 24]\n",
        "result = linprog(c, A_ub=A, b_ub=b)\n",
        "print(result)"
      ],
      "metadata": {
        "id": "W5Lt98r1Pxm5"
      },
      "execution_count": null,
      "outputs": []
    }
  ]
}