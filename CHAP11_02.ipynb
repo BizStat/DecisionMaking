{
  "nbformat": 4,
  "nbformat_minor": 0,
  "metadata": {
    "colab": {
      "provenance": [],
      "authorship_tag": "ABX9TyMtTgJbFywqyueyDjTGz1oB",
      "include_colab_link": true
    },
    "kernelspec": {
      "name": "python3",
      "display_name": "Python 3"
    },
    "language_info": {
      "name": "python"
    }
  },
  "cells": [
    {
      "cell_type": "markdown",
      "metadata": {
        "id": "view-in-github",
        "colab_type": "text"
      },
      "source": [
        "<a href=\"https://colab.research.google.com/github/BizStat/DecisionMaking/blob/main/CHAP11_02.ipynb\" target=\"_parent\"><img src=\"https://colab.research.google.com/assets/colab-badge.svg\" alt=\"Open In Colab\"/></a>"
      ]
    },
    {
      "cell_type": "markdown",
      "source": [
        "## 4장 26쪽 재고문제"
      ],
      "metadata": {
        "id": "AhwICoM6ZBqi"
      }
    },
    {
      "cell_type": "code",
      "execution_count": null,
      "metadata": {
        "id": "Rut3pAY4Y-zt"
      },
      "outputs": [],
      "source": [
        "from scipy.optimize import linprog\n",
        "c = [400,400,400,400,450,450,450,450,20,20,20,20]\n",
        "Aeq = [[1,0,0,0,1,0,0,0,-1,0,0,0],\n",
        "       [0,1,0,0,0,1,0,0,1,-1,0,0],\n",
        "       [0,0,1,0,0,0,1,0,0,1,-1,0],\n",
        "       [0,0,0,1,0,0,0,1,0,0,1,-1]]\n",
        "beq = [30,60,75,25]\n",
        "bounds = [(0,40),(0,40),(0,40),(0,40),\n",
        "          (0,None),(0,None),(0,None),(0,None),\n",
        "          (0,None),(0,None),(0,None),(0,None)]\n",
        "result = linprog(c, A_eq=Aeq, b_eq=beq,bounds=bounds)\n",
        "print(result)"
      ]
    },
    {
      "cell_type": "markdown",
      "source": [
        "## 정수계획법"
      ],
      "metadata": {
        "id": "7dsHLgVembzp"
      }
    },
    {
      "cell_type": "markdown",
      "source": [
        "___\n",
        "- pulp 라이브러리 설치"
      ],
      "metadata": {
        "id": "2OvrWvHvmd6l"
      }
    },
    {
      "cell_type": "code",
      "source": [
        "!pip install pulp"
      ],
      "metadata": {
        "id": "nGXBPY2mmim7"
      },
      "execution_count": null,
      "outputs": []
    },
    {
      "cell_type": "code",
      "source": [
        "# prompt: A사는 은종(silver bell)과 은사슴(silver deer)를 생산,판매하고 있는데, 편의상 생산된 모든 상품은 팔린다고 가정. A사가 이용하는 두 가지 주요 자원은 은(silver)과 노동력으로, 회사의 이윤을 최대화하기 위하여 은종과 은사슴을 각각 몇 개씩 생산하는 것이 바람직한 것인지를 결정하려고 함. 은종 한 개를 팔면 10만원의 이익을, 은사슴은 6만원의 이익을 얻을 수 있음. 은종과 은사슴 한 개를 생산하기 위하여  각각 5kg, 2kg의 은과 각각 4시간의 노동력이 필요함. 다만 은종과 은사슴 생산에 사용할 수 있는 은은 20kg, 노동시간은 24시간으로 제한 됨. 생산량은 정수(integer)여야 함\n",
        "\n",
        "from scipy.optimize import linprog\n",
        "\n",
        "# 목적 함수: 이익 최대화 (은종 이익: 10만원, 은사슴 이익: 6만원)\n",
        "c = [-10, -6]  # 최대화 문제이므로 계수에 -를 붙임\n",
        "\n",
        "# 제약 조건: 은 사용량, 노동 시간 제한\n",
        "A = [[5, 2], [4, 4]]\n",
        "b = [20, 24]\n",
        "\n",
        "# 변수의 범위 (생산량은 0 이상의 정수)\n",
        "x_bounds = [(0, None), (0, None)]\n",
        "\n",
        "# 선형 계획법 문제 해결\n",
        "result = linprog(c, A_ub=A, b_ub=b, bounds=x_bounds, method='highs')\n",
        "\n",
        "# 결과 출력\n",
        "print(result)\n",
        "\n",
        "# 정수 계획법을 위해 결과를 정수로 반올림\n",
        "import numpy as np\n",
        "optimal_x = np.round(result.x)\n",
        "print(\"\\nOptimal Solution (integer):\")\n",
        "print(\"Silver Bell:\", int(optimal_x[0]))\n",
        "print(\"Silver Deer:\", int(optimal_x[1]))\n",
        "\n",
        "# 정수 계획법을 사용한 결과 계산\n",
        "profit = -np.dot(c, optimal_x)\n",
        "print(\"Maximum Profit:\", int(profit))"
      ],
      "metadata": {
        "id": "0Vgpz7YFmlYs"
      },
      "execution_count": null,
      "outputs": []
    },
    {
      "cell_type": "code",
      "source": [
        "from pulp import LpMaximize, LpProblem, LpVariable, lpSum\n",
        "\n",
        "# 문제 정의 (최대화 문제)\n",
        "model = LpProblem(name=\"maximize_profit\", sense=LpMaximize)\n",
        "\n",
        "# 의사결정변수 정의 (정수 변수)\n",
        "x1 = LpVariable(name=\"silver_bells\", lowBound=0)\n",
        "x2 = LpVariable(name=\"silver_deer\", lowBound=0)\n",
        "\n",
        "# 목적 함수 정의: 10x1 + 6x2\n",
        "model += (10 * x1 + 6 * x2, \"Profit\")\n",
        "\n",
        "# 제약조건 추가\n",
        "model += 5 * x1 + 2 * x2 <= 20, \"Silver constraint\"\n",
        "model += 4 * x1 + 4 * x2 <= 24, \"Labor constraint\"\n",
        "\n",
        "# 최적화 실행\n",
        "status = model.solve()\n",
        "\n",
        "# 결과 출력\n",
        "optimal_production = {var.name: var.value() for var in model.variables()}\n",
        "maximum_profit = model.objective.value()\n",
        "\n",
        "optimal_production, maximum_profit"
      ],
      "metadata": {
        "id": "BvtYQeBkn_0t"
      },
      "execution_count": null,
      "outputs": []
    },
    {
      "cell_type": "code",
      "source": [
        "model"
      ],
      "metadata": {
        "id": "3KmdBqw__VCB"
      },
      "execution_count": null,
      "outputs": []
    },
    {
      "cell_type": "markdown",
      "source": [
        "## 수송모형"
      ],
      "metadata": {
        "id": "Lkp1eQ2JM5WM"
      }
    },
    {
      "cell_type": "code",
      "source": [
        "from pulp import *\n",
        "TransModel = LpProblem(sense=LpMinimize)\n",
        "x11 = LpVariable(name='서울->포항',lowBound=0, cat='Integer')\n",
        "x12 = LpVariable(name='서울->대전',lowBound=0, cat='Integer')\n",
        "x13 = LpVariable(name='서울->여수',lowBound=0, cat='Integer')\n",
        "x21 = LpVariable(name='부산->포항',lowBound=0, cat='Integer')\n",
        "x22 = LpVariable(name='부산->대전',lowBound=0, cat='Integer')\n",
        "x23 = LpVariable(name='부산->여수',lowBound=0, cat='Integer')\n",
        "x31 = LpVariable(name='광주->포항',lowBound=0, cat='Integer')\n",
        "x32 = LpVariable(name='광주->대전',lowBound=0, cat='Integer')\n",
        "x33 = LpVariable(name='광주->여수',lowBound=0, cat='Integer')\n",
        "TransModel += 5*x11 + 4*x12 + 3*x13 + 8*x21 + 4*x22 + 3*x23 + 9*x31 + 7*x32 + 5*x33\n",
        "\n",
        "TransModel += x11 + x12 + x13 == 100\n",
        "TransModel += x21 + x22 + x23 == 300\n",
        "TransModel += x31 + x32 + x33 == 300\n",
        "TransModel += x11 + x21 + x31 == 300\n",
        "TransModel += x12 + x22 + x32 == 200\n",
        "TransModel += x13 + x23 + x33 == 200\n",
        "\n",
        "status = TransModel.solve()"
      ],
      "metadata": {
        "id": "PSwBmlaaM4o6"
      },
      "execution_count": null,
      "outputs": []
    },
    {
      "cell_type": "code",
      "source": [
        "LpStatus[status]"
      ],
      "metadata": {
        "id": "--ZiET-2RcmY"
      },
      "execution_count": null,
      "outputs": []
    },
    {
      "cell_type": "code",
      "source": [
        "TransModel"
      ],
      "metadata": {
        "id": "0ish_SgNTNTC"
      },
      "execution_count": null,
      "outputs": []
    },
    {
      "cell_type": "code",
      "source": [
        "x11.varValue"
      ],
      "metadata": {
        "id": "dZ0vqT2vVhYX"
      },
      "execution_count": null,
      "outputs": []
    },
    {
      "cell_type": "code",
      "source": [
        "value(TransModel.objective)"
      ],
      "metadata": {
        "id": "BimZXTtUZEah"
      },
      "execution_count": null,
      "outputs": []
    },
    {
      "cell_type": "code",
      "source": [
        "optimal_trans = {var.name: var.value() for var in TransModel.variables()}\n",
        "optimal_trans"
      ],
      "metadata": {
        "id": "B6UQQhDGRec5"
      },
      "execution_count": null,
      "outputs": []
    }
  ]
}